{
 "cells": [
  {
   "cell_type": "code",
   "execution_count": 29,
   "metadata": {},
   "outputs": [],
   "source": [
    "from IPython.display import clear_output\n",
    "import numpy as np\n",
    "import matplotlib.pyplot as plt\n",
    "import scipy.integrate as integrate\n",
    "\n",
    "# rectangle function from -0.5 to 0.5\n",
    "def rect(x):\n",
    "    return np.where(abs(x) <= 0.5, 1, 0)\n",
    "# kronecker delta function\n",
    "def delta(x):\n",
    "    return np.where(x == 0, 1, 0)\n",
    "# triangle function from -0.5 to 0.5\n",
    "def tri(x):\n",
    "    y = np.zeros(len(x))\n",
    "    l = np.logical_and(x >= -0.5, x <= 0)\n",
    "    r = np.logical_and(x > 0, x <= 0.5)\n",
    "    y[l] = 1 + 2*x[l]\n",
    "    y[r] = 1 - 2*x[r]\n",
    "    return y\n",
    "\n",
    "def gauss(x):\n",
    "    return np.exp(-np.pi*x**2)"
   ]
  },
  {
   "cell_type": "code",
   "execution_count": 30,
   "metadata": {},
   "outputs": [
    {
     "data": {
      "image/png": "[encoded data removed]",
      "text/plain": [
       "<Figure size 432x288 with 1 Axes>"
      ]
     },
     "metadata": {
      "needs_background": "light"
     },
     "output_type": "display_data"
    }
   ],
   "source": [
    "# Correlation without offset\n",
    "# set this to True if you want to see convolution instead of cross-correlation\n",
    "convolution = False\n",
    "x = np.linspace(-2, 2, 201)\n",
    "i = 0\n",
    "corr_func = np.zeros(len(x))\n",
    "for x0 in x:\n",
    "    plt.grid(True, which='both')\n",
    "    # function f\n",
    "    y1 = rect(x)\n",
    "    x2 = -x + x0 if convolution else x + x0\n",
    "    # function g\n",
    "    y2 = tri(x2)*rect(x2*2 - 0.5)\n",
    "    corr = (y1*y2)\n",
    "    # correlation or convolution of f and g\n",
    "    corr_func[i] = integrate.simps(corr, x, even='avg')\n",
    "    plt.plot(x, y1)\n",
    "    plt.plot(x, y2)\n",
    "    plt.plot(x, corr_func)\n",
    "    plt.show()\n",
    "    plt.pause(0.01)\n",
    "    i += 1\n",
    "    clear_output(wait=True)\n",
    "    plt.cla()\n",
    "plt.grid(True, which='both')\n",
    "plt.plot(x, corr_func, 'g')\n",
    "plt.show()"
   ]
  }
 ],
 "metadata": {
  "kernelspec": {
   "display_name": "Python 3",
   "language": "python",
   "name": "python3"
  },
  "language_info": {
   "codemirror_mode": {
    "name": "ipython",
    "version": 3
   },
   "file_extension": ".py",
   "mimetype": "text/x-python",
   "name": "python",
   "nbconvert_exporter": "python",
   "pygments_lexer": "ipython3",
   "version": "3.8.2"
  }
 },
 "nbformat": 4,
 "nbformat_minor": 4
}
